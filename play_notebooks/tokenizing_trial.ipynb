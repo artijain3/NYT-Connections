{
 "cells": [
  {
   "cell_type": "markdown",
   "metadata": {},
   "source": [
    "## BERT RESOURCES\n",
    "\n",
    "https://huggingface.co/transformers/v3.0.2/model_doc/bert.html\n",
    "\n",
    "https://www.youtube.com/watch?v=9he4XKqqzvE\n",
    "\n",
    "https://huggingface.co/transformers/v3.0.2/model_doc/roberta.html"
   ]
  },
  {
   "cell_type": "code",
   "execution_count": 1,
   "metadata": {},
   "outputs": [],
   "source": [
    "from transformers import BertTokenizer\n",
    "import os\n",
    "import json\n",
    "import ast"
   ]
  },
  {
   "cell_type": "code",
   "execution_count": 6,
   "metadata": {},
   "outputs": [
    {
     "name": "stdout",
     "output_type": "stream",
     "text": [
      "True\n"
     ]
    }
   ],
   "source": [
    "categories_file_path = os.path.join(os.getcwd(),\"../preprocessed_data\", \"SYNONYMS.txt\")\n",
    "print(os.path.exists(categories_file_path))"
   ]
  },
  {
   "cell_type": "code",
   "execution_count": 7,
   "metadata": {},
   "outputs": [],
   "source": [
    "tokenizer = BertTokenizer.from_pretrained(\"bert-base-cased\")"
   ]
  },
  {
   "cell_type": "code",
   "execution_count": 9,
   "metadata": {},
   "outputs": [],
   "source": [
    "with open(categories_file_path, 'r') as file:\n",
    "    content = json.load(file)\n",
    "instring = list(content.keys())"
   ]
  },
  {
   "cell_type": "code",
   "execution_count": 10,
   "metadata": {},
   "outputs": [
    {
     "name": "stdout",
     "output_type": "stream",
     "text": [
      "These are my four associated words: badgers, bugs, hounds, nags\n"
     ]
    }
   ],
   "source": [
    "print(instring[0])"
   ]
  },
  {
   "cell_type": "code",
   "execution_count": 13,
   "metadata": {},
   "outputs": [
    {
     "name": "stdout",
     "output_type": "stream",
     "text": [
      "dict_keys(['input_ids', 'token_type_ids', 'attention_mask'])\n",
      "[101, 1636, 1132, 1139, 1300, 2628, 1734, 131, 13088, 1733, 117, 19048, 117, 16358, 20408, 117, 9468, 5700, 102]\n",
      "[0, 0, 0, 0, 0, 0, 0, 0, 0, 0, 0, 0, 0, 0, 0, 0, 0, 0, 0]\n",
      "[1, 1, 1, 1, 1, 1, 1, 1, 1, 1, 1, 1, 1, 1, 1, 1, 1, 1, 1]\n"
     ]
    }
   ],
   "source": [
    "# Trying out tokenization\n",
    "tokens = tokenizer(instring)\n",
    "print(tokens.keys())\n",
    "print(tokens['input_ids'][0])\n",
    "print(tokens['token_type_ids'][0])\n",
    "print(tokens['attention_mask'][0])"
   ]
  }
 ],
 "metadata": {
  "kernelspec": {
   "display_name": "deeplearning",
   "language": "python",
   "name": "python3"
  },
  "language_info": {
   "codemirror_mode": {
    "name": "ipython",
    "version": 3
   },
   "file_extension": ".py",
   "mimetype": "text/x-python",
   "name": "python",
   "nbconvert_exporter": "python",
   "pygments_lexer": "ipython3",
   "version": "3.11.5"
  }
 },
 "nbformat": 4,
 "nbformat_minor": 2
}
