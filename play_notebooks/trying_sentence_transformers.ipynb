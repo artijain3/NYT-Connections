{
 "cells": [
  {
   "cell_type": "markdown",
   "metadata": {},
   "source": [
    "## SENTENCE TRANSFORMERS\n",
    "\n",
    "https://huggingface.co/docs/hub/en/sentence-transformers"
   ]
  },
  {
   "cell_type": "code",
   "execution_count": 3,
   "metadata": {},
   "outputs": [],
   "source": [
    "from transformers import BertTokenizer\n",
    "from sentence_transformers import SentenceTransformer, util\n",
    "import os\n",
    "import json\n",
    "import ast"
   ]
  },
  {
   "cell_type": "code",
   "execution_count": null,
   "metadata": {},
   "outputs": [],
   "source": [
    "model = SentenceTransformer('multi-qa-MiniLM-L6-cos-v1')"
   ]
  },
  {
   "cell_type": "markdown",
   "metadata": {},
   "source": [
    "### Experimenting with sentence similarity score"
   ]
  },
  {
   "cell_type": "code",
   "execution_count": 14,
   "metadata": {},
   "outputs": [
    {
     "name": "stdout",
     "output_type": "stream",
     "text": [
      "Query: 'badgers' similarity score with: bugs is: 0.13595181703567505\n",
      "Query: 'badgers' similarity score with: hounds is: 0.3830384314060211\n",
      "Query: 'badgers' similarity score with: nags is: 0.15790362656116486\n"
     ]
    }
   ],
   "source": [
    "query = 'badgers'\n",
    "passage = ['bugs','hounds','nags']\n",
    "\n",
    "query_embedding = model.encode(query)\n",
    "passage_embedding = model.encode(passage)\n",
    "similarities = util.dot_score(query_embedding, passage_embedding)\n",
    "\n",
    "for w in range(len(passage)):\n",
    "    print(f\"Query: '{query}' similarity score with: {passage[w]} is: {similarities[0][w]}\")"
   ]
  },
  {
   "cell_type": "code",
   "execution_count": 15,
   "metadata": {},
   "outputs": [
    {
     "name": "stdout",
     "output_type": "stream",
     "text": [
      "Query: 'badgers, bugs' similarity score with: hounds is: 0.3281097114086151\n",
      "Query: 'badgers, bugs' similarity score with: nags is: 0.18342794477939606\n"
     ]
    }
   ],
   "source": [
    "query = 'badgers, bugs'\n",
    "passage = ['hounds','nags']\n",
    "\n",
    "query_embedding = model.encode(query)\n",
    "passage_embedding = model.encode(passage)\n",
    "similarities = util.dot_score(query_embedding, passage_embedding)\n",
    "\n",
    "for w in range(len(passage)):\n",
    "    print(f\"Query: '{query}' similarity score with: {passage[w]} is: {similarities[0][w]}\")"
   ]
  },
  {
   "cell_type": "code",
   "execution_count": 16,
   "metadata": {},
   "outputs": [
    {
     "name": "stdout",
     "output_type": "stream",
     "text": [
      "Query: 'badgers, bugs, hounds' similarity score with: nags is: 0.16399186849594116\n"
     ]
    }
   ],
   "source": [
    "query = 'badgers, bugs, hounds'\n",
    "passage = ['nags']\n",
    "\n",
    "query_embedding = model.encode(query)\n",
    "passage_embedding = model.encode(passage)\n",
    "similarities = util.dot_score(query_embedding, passage_embedding)\n",
    "\n",
    "for w in range(len(passage)):\n",
    "    print(f\"Query: '{query}' similarity score with: {passage[w]} is: {similarities[0][w]}\")"
   ]
  },
  {
   "cell_type": "code",
   "execution_count": 17,
   "metadata": {},
   "outputs": [
    {
     "name": "stdout",
     "output_type": "stream",
     "text": [
      "Query: 'badgers, bugs, hounds, nags' similarity score with: pesters is: 0.43847590684890747\n"
     ]
    }
   ],
   "source": [
    "query = 'badgers, bugs, hounds, nags'\n",
    "passage = ['pesters']\n",
    "\n",
    "query_embedding = model.encode(query)\n",
    "passage_embedding = model.encode(passage)\n",
    "similarities = util.dot_score(query_embedding, passage_embedding)\n",
    "\n",
    "for w in range(len(passage)):\n",
    "    print(f\"Query: '{query}' similarity score with: {passage[w]} is: {similarities[0][w]}\")"
   ]
  },
  {
   "cell_type": "markdown",
   "metadata": {},
   "source": [
    "#### Trying another example"
   ]
  },
  {
   "cell_type": "code",
   "execution_count": 20,
   "metadata": {},
   "outputs": [
    {
     "name": "stdout",
     "output_type": "stream",
     "text": [
      "Query: 'couple, hitch' similarity score with: connect is: 0.1393156200647354\n",
      "Query: 'couple, hitch' similarity score with: tie is: 0.4180426597595215\n",
      "Query: 'couple, hitch' similarity score with: link is: 0.14586998522281647\n"
     ]
    }
   ],
   "source": [
    "query = 'couple, hitch'\n",
    "passage = ['connect', 'tie', 'link']\n",
    "\n",
    "query_embedding = model.encode(query)\n",
    "passage_embedding = model.encode(passage)\n",
    "similarities = util.dot_score(query_embedding, passage_embedding)\n",
    "\n",
    "for w in range(len(passage)):\n",
    "    print(f\"Query: '{query}' similarity score with: {passage[w]} is: {similarities[0][w]}\")"
   ]
  }
 ],
 "metadata": {
  "kernelspec": {
   "display_name": "deeplearning",
   "language": "python",
   "name": "python3"
  },
  "language_info": {
   "codemirror_mode": {
    "name": "ipython",
    "version": 3
   },
   "file_extension": ".py",
   "mimetype": "text/x-python",
   "name": "python",
   "nbconvert_exporter": "python",
   "pygments_lexer": "ipython3",
   "version": "3.11.5"
  }
 },
 "nbformat": 4,
 "nbformat_minor": 2
}
